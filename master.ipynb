{
 "cells": [
  {
   "cell_type": "markdown",
   "metadata": {},
   "source": [
    "<a id='top'></a>\n",
    "# Used Cars: Predicting the Sale Price\n",
    "By: Jill Carrie\n",
    "\n",
    "\n",
    "### Table of Contents:\n",
    "1. [Project Goal](#goal)\n",
    "2. [Summary of Data](#data) \n",
    "3. [Methodology](#methods) \n",
    "4. [Conclusion and Next Steps](#conclude) \n",
    "\n",
    "\n",
    "### Project Goal: <a id='goal'></a>\n",
    "Can I use various used car features (eg. vehicle age, mileage, city of sale, brand, etc) to predict the sale price?"
   ]
  },
  {
   "cell_type": "markdown",
   "metadata": {},
   "source": [
    "### Summary of Data: <a id='data'></a>\n",
    "Source: [Machine Hack](https://www.machinehack.com/course/predicting-the-costs-of-used-cars-hackathon-by-imarticus/) - A Machine Learning and Data Science Competition. This particular competition was on predicting used vehicle prices. \n",
    "\n",
    "If you are interested, here is my cleaned up [data](https://github.com/JillCarrie/Mod4/blob/master/data/cars.csv)."
   ]
  },
  {
   "cell_type": "markdown",
   "metadata": {},
   "source": [
    "\n",
    "\n",
    "[Back to Top ↑](#top)"
   ]
  },
  {
   "cell_type": "markdown",
   "metadata": {},
   "source": [
    "### Methodology: <a id='methods'></a>"
   ]
  },
  {
   "cell_type": "code",
   "execution_count": null,
   "metadata": {},
   "outputs": [],
   "source": []
  },
  {
   "cell_type": "code",
   "execution_count": null,
   "metadata": {},
   "outputs": [],
   "source": []
  },
  {
   "cell_type": "code",
   "execution_count": null,
   "metadata": {},
   "outputs": [],
   "source": []
  },
  {
   "cell_type": "code",
   "execution_count": null,
   "metadata": {},
   "outputs": [],
   "source": []
  },
  {
   "cell_type": "code",
   "execution_count": null,
   "metadata": {},
   "outputs": [],
   "source": []
  },
  {
   "cell_type": "markdown",
   "metadata": {},
   "source": [
    "\n",
    "\n",
    "[Back to Top ↑](#top)"
   ]
  },
  {
   "cell_type": "markdown",
   "metadata": {},
   "source": [
    "### Conclusion & Next Steps: <a id='conclude'></a>"
   ]
  },
  {
   "cell_type": "code",
   "execution_count": null,
   "metadata": {},
   "outputs": [],
   "source": []
  },
  {
   "cell_type": "markdown",
   "metadata": {},
   "source": [
    "\n",
    "\n",
    "[Back to Top ↑](#top)"
   ]
  }
 ],
 "metadata": {
  "kernelspec": {
   "display_name": "Python 3",
   "language": "python",
   "name": "python3"
  },
  "language_info": {
   "codemirror_mode": {
    "name": "ipython",
    "version": 3
   },
   "file_extension": ".py",
   "mimetype": "text/x-python",
   "name": "python",
   "nbconvert_exporter": "python",
   "pygments_lexer": "ipython3",
   "version": "3.7.4"
  }
 },
 "nbformat": 4,
 "nbformat_minor": 2
}
